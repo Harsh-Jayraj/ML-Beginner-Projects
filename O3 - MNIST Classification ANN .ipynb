{
 "cells": [
  {
   "cell_type": "code",
   "execution_count": null,
   "metadata": {},
   "outputs": [],
   "source": [
    "import torch\n",
    "import torchvision\n",
    "from torchvision import transforms,datasets\n",
    "\n",
    "import torch.nn as nn\n",
    "import torch.nn.functional as F\n",
    "import torch.optim as optim"
   ]
  },
  {
   "cell_type": "code",
   "execution_count": null,
   "metadata": {},
   "outputs": [],
   "source": [
    "train = torchvision.datasets.MNIST('',train=True,download=True,transform=transforms.Compose([transforms.ToTensor()]))\n",
    "test = torchvision.datasets.MNIST('',train=False,download=True,transform=transforms.Compose([transforms.ToTensor()]))\n",
    "\n",
    "trainset=torch.utils.data.DataLoader(train,batch_size=10,shuffle=True, num_workers=4)\n",
    "testset=torch.utils.data.DataLoader(test,batch_size=10,shuffle=True, num_workers=4)"
   ]
  },
  {
   "cell_type": "code",
   "execution_count": null,
   "metadata": {},
   "outputs": [],
   "source": [
    "trainset_shape=trainset.dataset.train_data.shape\n",
    "testset_shape=testset.dataset.test_data.shape\n",
    "print(trainset_shape,testset_shape)"
   ]
  },
  {
   "cell_type": "code",
   "execution_count": null,
   "metadata": {},
   "outputs": [],
   "source": [
    "class Net(nn.Module):\n",
    "    def __init__(self):\n",
    "        super(Net, self).__init__()\n",
    "        self.linear1 = nn.Linear(784,400)\n",
    "        self.linear2 = nn.Linear(400,250)\n",
    "        self.linear3 = nn.Linear(250,100)\n",
    "        self.linear4 = nn.Linear(100,10)\n",
    "        \n",
    "    def forward(self,X):\n",
    "        X = F.relu(self.linear1(X))\n",
    "        X = F.relu(self.linear2(X))\n",
    "        X = F.relu(self.linear3(X))\n",
    "        X = self.linear4(X)\n",
    "        return F.log_softmax(X, dim=1)\n",
    "\n",
    "net=Net()\n",
    "print(net)"
   ]
  },
  {
   "cell_type": "code",
   "execution_count": null,
   "metadata": {},
   "outputs": [],
   "source": [
    "\n",
    "loss_fn = nn.CrossEntropyLoss()\n",
    "optimizer = optim.Adam(net.parameters(),lr=0.001)"
   ]
  },
  {
   "cell_type": "code",
   "execution_count": null,
   "metadata": {},
   "outputs": [],
   "source": [
    "%%time\n",
    "loss_arr = []\n",
    "loss_epoch_arr = []\n",
    "max_epochs = 4\n",
    "for epoch in range(max_epochs):\n",
    "    #iterate through all the batches in each epoch\n",
    "    for i, data in enumerate(trainset, 0):\n",
    "        #keeping the network in training mode     \n",
    "        net.train()     \n",
    "        inputs, labels = data \n",
    "        #clear the gradients     \n",
    "        net.zero_grad()     \n",
    "        #forward pass     \n",
    "        net(inputs.view(-1,784))\n",
    "        outputs = net(inputs)      \n",
    "        loss = loss_fn(outputs, labels)     \n",
    "        #backward pass     \n",
    "        loss.backward()     \n",
    "        net.step()     \n",
    "        loss_arr.append(loss.item()) \n",
    "    loss_epoch_arr.append(loss.item()) "
   ]
  },
  {
   "cell_type": "code",
   "execution_count": null,
   "metadata": {},
   "outputs": [],
   "source": [
    "# function to do evaluation (calculate the accuracy) in gpu\n",
    "def evaluation(dataset):\n",
    "    total, correct = 0, 0\n",
    "    #keeping the network in evaluation mode \n",
    "    net.eval()\n",
    "    for data in dataset:\n",
    "        inputs, labels = data\n",
    "        outputs = net(inputs)\n",
    "        _, pred = torch.max(outputs.data, 1)\n",
    "        total += labels.size(0)\n",
    "        correct += (pred == labels).sum().item()\n",
    "    return 100 * correct / total"
   ]
  },
  {
   "cell_type": "code",
   "execution_count": null,
   "metadata": {},
   "outputs": [],
   "source": []
  }
 ],
 "metadata": {
  "kernelspec": {
   "display_name": "Python 3",
   "language": "python",
   "name": "python3"
  },
  "language_info": {
   "codemirror_mode": {
    "name": "ipython",
    "version": 3
   },
   "file_extension": ".py",
   "mimetype": "text/x-python",
   "name": "python",
   "nbconvert_exporter": "python",
   "pygments_lexer": "ipython3",
   "version": "3.8.3"
  }
 },
 "nbformat": 4,
 "nbformat_minor": 4
}
